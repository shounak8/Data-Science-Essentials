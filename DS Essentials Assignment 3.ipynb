{
 "cells": [
  {
   "cell_type": "code",
   "execution_count": 2,
   "metadata": {},
   "outputs": [],
   "source": [
    "import numpy as np"
   ]
  },
  {
   "cell_type": "markdown",
   "metadata": {},
   "source": [
    "# Questions 1:\n",
    "Create a numpy array starting from 2 till 50 with a stepsize of 3."
   ]
  },
  {
   "cell_type": "code",
   "execution_count": 3,
   "metadata": {},
   "outputs": [
    {
     "name": "stdout",
     "output_type": "stream",
     "text": [
      "[ 2  5  8 11 14 17 20 23 26 29 32 35 38 41 44 47 50]\n"
     ]
    }
   ],
   "source": [
    "arr = np.arange(2,51,3)\n",
    "print(arr)"
   ]
  },
  {
   "cell_type": "markdown",
   "metadata": {},
   "source": [
    "# Questions 2:\n",
    "Accept two lists of 5 elements each from the user.\n",
    "Convert them to numpy arrays. Concatenate these arrays and print it. Also sort these arrays and print it."
   ]
  },
  {
   "cell_type": "code",
   "execution_count": 24,
   "metadata": {},
   "outputs": [
    {
     "name": "stdout",
     "output_type": "stream",
     "text": [
      "enter number for list 1: 10\n",
      "enter number for list 1: 8\n",
      "enter number for list 1: 6\n",
      "enter number for list 1: 4\n",
      "enter number for list 1: 2\n",
      "enter number for list 2: 1\n",
      "enter number for list 2: 3\n",
      "enter number for list 2: 5\n",
      "enter number for list 2: 7\n",
      "enter number for list 2: 9\n",
      "2 lists are \n",
      " [10, 8, 6, 4, 2] \n",
      " [1, 3, 5, 7, 9]\n",
      "2 arrays are \n",
      " [10  8  6  4  2] \n",
      " [1 3 5 7 9]\n",
      "concatenated array is  [10  8  6  4  2  1  3  5  7  9]\n",
      "sorted concatenated array is  [ 1  2  3  4  5  6  7  8  9 10]\n"
     ]
    }
   ],
   "source": [
    "a = []\n",
    "b = []\n",
    "\n",
    "while len(a) < 5:\n",
    "    a1 = int(input('enter number for list 1: '))\n",
    "    a.append(a1)\n",
    "while len(b) < 5:\n",
    "    b1 = int(input('enter number for list 2: '))\n",
    "    b.append(b1)\n",
    "    \n",
    "print('2 lists are \\n',a, '\\n', b)\n",
    "\n",
    "a2 = np.array(a)\n",
    "b2 = np.array(b)\n",
    "print('2 arrays are \\n',a2, '\\n', b2)\n",
    "\n",
    "c = np.concatenate((a2,b2), axis = 0)\n",
    "print('concatenated array is ',c)\n",
    "c.sort()\n",
    "print('sorted concatenated array is ',c)"
   ]
  },
  {
   "cell_type": "markdown",
   "metadata": {},
   "source": [
    "# Questions 3:\n",
    "Write a code snippet to find the dimensions of a ndarray and its size."
   ]
  },
  {
   "cell_type": "code",
   "execution_count": 44,
   "metadata": {},
   "outputs": [],
   "source": [
    "a = np.arange(0,18).reshape(3,6)"
   ]
  },
  {
   "cell_type": "code",
   "execution_count": 49,
   "metadata": {},
   "outputs": [
    {
     "name": "stdout",
     "output_type": "stream",
     "text": [
      "shape of array is  (3, 6)\n",
      "dimension of array is  2\n",
      "size of array is  18\n"
     ]
    }
   ],
   "source": [
    "print('shape of array is ',a.shape)\n",
    "print('dimension of array is ',a.ndim)\n",
    "print('size of array is ',a.size)"
   ]
  },
  {
   "cell_type": "markdown",
   "metadata": {},
   "source": [
    "# Questions 4:\n",
    "\n",
    "How to convert a 1D array into a 2D array? Demonstrate with the help of a code snippet\n",
    "Hint: np.newaxis, np.expand_dims"
   ]
  },
  {
   "cell_type": "code",
   "execution_count": 56,
   "metadata": {},
   "outputs": [
    {
     "name": "stdout",
     "output_type": "stream",
     "text": [
      "dimension of a  [ 1  2  3  4  5  6  7  8  9 10]  is  1\n",
      "dimension of b  [[ 1  2  3  4  5  6  7  8  9 10]]  is  2\n"
     ]
    }
   ],
   "source": [
    "a = np.array([1,2,3,4,5,6,7,8,9,10])\n",
    "b = np.expand_dims(a,0)\n",
    "print('dimension of a ',a,' is ',a.ndim)\n",
    "print('dimension of b ',b,' is ',b.ndim)"
   ]
  },
  {
   "cell_type": "markdown",
   "metadata": {},
   "source": [
    "# Questions 5:\n",
    "Consider two square numpy arrays. Stack them vertically and horizontally.\n",
    "Hint: Use vstack(), hstack()"
   ]
  },
  {
   "cell_type": "code",
   "execution_count": 67,
   "metadata": {},
   "outputs": [
    {
     "name": "stdout",
     "output_type": "stream",
     "text": [
      "horizontal stacking \n",
      " [[1. 0. 0. 0. 1. 1. 1. 1.]\n",
      " [0. 1. 0. 0. 1. 1. 1. 1.]\n",
      " [0. 0. 1. 0. 1. 1. 1. 1.]\n",
      " [0. 0. 0. 1. 1. 1. 1. 1.]] \n",
      "\n",
      "vertical stacking \n",
      " [[1. 0. 0. 0.]\n",
      " [0. 1. 0. 0.]\n",
      " [0. 0. 1. 0.]\n",
      " [0. 0. 0. 1.]\n",
      " [1. 1. 1. 1.]\n",
      " [1. 1. 1. 1.]\n",
      " [1. 1. 1. 1.]\n",
      " [1. 1. 1. 1.]]\n"
     ]
    }
   ],
   "source": [
    "a = np.identity(4)\n",
    "b = np.ones([4,4])\n",
    "print('horizontal stacking \\n',np.hstack([a,b]),'\\n')\n",
    "print('vertical stacking \\n',np.vstack([a,b]))"
   ]
  },
  {
   "cell_type": "markdown",
   "metadata": {},
   "source": [
    "# Questions 6:\n",
    "How to get unique items and counts of unique items?"
   ]
  },
  {
   "cell_type": "code",
   "execution_count": 86,
   "metadata": {},
   "outputs": [
    {
     "name": "stdout",
     "output_type": "stream",
     "text": [
      "array is  [[12 18 16 17  2]\n",
      " [10 13  9  7  0]\n",
      " [15 19 17  9  6]\n",
      " [ 9  9 13  7  4]\n",
      " [ 7  2 18  8  3]]\n",
      "unique values in the array and their correspoing frequencies are mentioned below \n",
      " [[ 0  2  3  4  6  7  8  9 10 12 13 15 16 17 18 19]\n",
      " [ 1  2  1  1  1  3  1  4  1  1  2  1  1  2  2  1]]\n"
     ]
    }
   ],
   "source": [
    "a = np.random.randint(20, size = (5,5))\n",
    "print('array is ',a)\n",
    "b = np.unique(a, return_counts= True)\n",
    "c = np.vstack([b[0], b[1]])\n",
    "print('unique values in the array and their correspoing frequencies are mentioned below \\n',c)"
   ]
  }
 ],
 "metadata": {
  "kernelspec": {
   "display_name": "Python 3",
   "language": "python",
   "name": "python3"
  },
  "language_info": {
   "codemirror_mode": {
    "name": "ipython",
    "version": 3
   },
   "file_extension": ".py",
   "mimetype": "text/x-python",
   "name": "python",
   "nbconvert_exporter": "python",
   "pygments_lexer": "ipython3",
   "version": "3.8.3"
  }
 },
 "nbformat": 4,
 "nbformat_minor": 4
}
